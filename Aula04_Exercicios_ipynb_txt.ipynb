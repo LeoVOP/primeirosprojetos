{
  "nbformat": 4,
  "nbformat_minor": 0,
  "metadata": {
    "colab": {
      "name": "Aula04_Exercicios.ipynb.txt",
      "provenance": [],
      "collapsed_sections": [],
      "include_colab_link": true
    },
    "kernelspec": {
      "name": "python3",
      "display_name": "Python 3"
    },
    "language_info": {
      "name": "python"
    }
  },
  "cells": [
    {
      "cell_type": "markdown",
      "metadata": {
        "id": "view-in-github",
        "colab_type": "text"
      },
      "source": [
        "<a href=\"https://colab.research.google.com/github/LeoVOP/primeirosprojetos/blob/main/Aula04_Exercicios_ipynb_txt.ipynb\" target=\"_parent\"><img src=\"https://colab.research.google.com/assets/colab-badge.svg\" alt=\"Open In Colab\"/></a>"
      ]
    },
    {
      "cell_type": "markdown",
      "metadata": {
        "id": "DptQTkwqN7v9"
      },
      "source": [
        "# Exercícios de Aquecimento\n",
        "\n",
        "## Exercício 01\n",
        "Elabore um programa que imprima na tela a seguinte frase `Olá Mundo! Esse é o meu primeiro programa`"
      ]
    },
    {
      "cell_type": "code",
      "metadata": {
        "id": "fu-Hvxg7OT64",
        "colab": {
          "base_uri": "https://localhost:8080/"
        },
        "outputId": "c719410b-1a91-44c2-ca51-296ddc2257a1"
      },
      "source": [
        "print(\"Olá mundo!!Esse é o meu primeiro programa\")"
      ],
      "execution_count": 1,
      "outputs": [
        {
          "output_type": "stream",
          "text": [
            "Olá mundo!!Esse é o meu primeiro programa\n"
          ],
          "name": "stdout"
        }
      ]
    },
    {
      "cell_type": "markdown",
      "metadata": {
        "id": "HYnPLbl2OfuE"
      },
      "source": [
        "## Exercício 02\n",
        "Elabore um programa que escreve seu nome completo na primeira linha, seu endereço na segunda e o CEP e telefone na terceira.  \n",
        "\n",
        "**Exemplo:**\n",
        "```\n",
        "Nome: Bruno Fabri\n",
        "Endereço: Rua ABC\n",
        "CEP: 002220-010\n",
        "```"
      ]
    },
    {
      "cell_type": "code",
      "metadata": {
        "id": "sUrmuOzbO5Cd"
      },
      "source": [
        "print(\"Leoanardo Vinicius Oliveira Pereira\\nRua Getulio Vargas 596 Salobro Caxias-MA\\n65609-580\\nTel 99-996421614\")\n",
        "print('''\n",
        "Leoanardo Vinicius Oliveira Pereira\n",
        "Rua Getulio Vargas 596 Salobro Caxias-MA\n",
        "65609-580\n",
        "Tel 99-996421614'''\n",
        ")\n",
        "\n",
        "nome=\"Leoanardo Vinicius Oliveira Pereira\"\n",
        "endereco=\"Rua Getulio Vargas 596 Salobro Caxias-MA\"\n",
        "cep=\"65609-580\"\n",
        "tel=\"Tel 99-996421614\"\n",
        "print(nome)\n",
        "print(endereco)\n",
        "print(cep)\n",
        "print(tel)\n",
        "\n",
        "print(f\"{nome}\\n{endereco}\\n{cep}\\n{tel}\")"
      ],
      "execution_count": null,
      "outputs": []
    },
    {
      "cell_type": "markdown",
      "metadata": {
        "id": "5XVY0cvwP1WX"
      },
      "source": [
        "## Exercício 03\n",
        "Elabore um programa que recebe o nome de uma pessoa do terminal e mostra a seguinte mensagem: `Olá {nome}! Seja bem vindo ao fantástico mundo da programação`"
      ]
    },
    {
      "cell_type": "code",
      "metadata": {
        "id": "VDfwe6OSQM0M"
      },
      "source": [
        "nome=input(\"Digite o seu nome: \")\n",
        "sobrenome=input(\"Digite o seu sobrenome:\")\n",
        "print(\"Olá\",nome,sobrenome+\"!! Seja bem vindo ao fantástico mundo da programação :)\")\n",
        "print(\"Olá {} {}!! Seja bem vindo ao fantástico mundo da programação :)\".format(nome,sobrenome))\n",
        "print(f\"Olá {nome} {sobrenome}!! Seja bem vindo ao fantástico mundo da programação :)\")\n"
      ],
      "execution_count": null,
      "outputs": []
    },
    {
      "cell_type": "markdown",
      "metadata": {
        "id": "1Nb29agVQc3k"
      },
      "source": [
        "## Exercício 04\n",
        "Elabore um programa que recebe dois valores inteiros e mostra a soma desses valores\n",
        "\n",
        "**Exemplo:**\n",
        "\n",
        "```\n",
        "Primeiro Valor = 2\n",
        "Segundo Valor = 3\n",
        "Soma = 5\n",
        "```"
      ]
    },
    {
      "cell_type": "code",
      "metadata": {
        "id": "a6_BwVwRROmH"
      },
      "source": [
        "numero=int(input(\"Digite o primeiro número :\"))\n",
        "numero2=int(input(\"Digite o primeiro número :\"))\n",
        "soma=numero+numero2\n",
        "print(soma)\n",
        "print(f\"a soma de {numero} e {numero2} é \",numero+numero2)"
      ],
      "execution_count": null,
      "outputs": []
    },
    {
      "cell_type": "markdown",
      "metadata": {
        "id": "4HQxR3FTTbSr"
      },
      "source": [
        "## Exercício 05\n",
        "Elabore um programa que recebe dois valores inteiros e mostra se o primeiro valor é maior ou igual ao segundo valor\n",
        "\n",
        "**Exemplo:**\n",
        "```\n",
        "Primeiro Valor = 3\n",
        "Segundo Valor = 2\n",
        "Resultado = True\n",
        "```"
      ]
    },
    {
      "cell_type": "code",
      "metadata": {
        "id": "OXISQASdTeSW",
        "colab": {
          "base_uri": "https://localhost:8080/"
        },
        "outputId": "022ff943-96fb-4251-f46f-fd839a4eef6f"
      },
      "source": [
        "numero=int(input(\"Digite o primeiro número :\"))\n",
        "numero2=int(input(\"Digite o primeiro número :\"))\n",
        "print(numero>=numero2)"
      ],
      "execution_count": 37,
      "outputs": [
        {
          "output_type": "stream",
          "text": [
            "Digite o primeiro número :3\n",
            "Digite o primeiro número :5\n",
            "False\n"
          ],
          "name": "stdout"
        }
      ]
    },
    {
      "cell_type": "markdown",
      "metadata": {
        "id": "Gn8rHPn3UCnc"
      },
      "source": [
        "## Exercício 06\n",
        "Elabore um programa que recebe o seu nome, endereço e hobby e mostra cada uma das informações da seguinte forma:\n",
        "- Nome -> Letra maiúscula\n",
        "- Endereço -> Letra minúscula\n",
        "- Hobby -> Primeira letra maiúscula\n",
        "\n",
        "**Exemplo Entrada:**\n",
        "```\n",
        "Nome: bruno fabri\n",
        "Endereço: Rua ABC\n",
        "Hobby: jogar cs\n",
        "```\n",
        "\n",
        "**Exemplo Saída:**\n",
        "```\n",
        "Nome: BRUNO FABRI\n",
        "Endereço: rua abc\n",
        "Hobby: Jogar cs\n",
        "```"
      ]
    },
    {
      "cell_type": "code",
      "metadata": {
        "id": "ZIj-PGVZVVP6"
      },
      "source": [
        "nome=input(\"Digite o seu nome :\").upper()\n",
        "endereco=input(\"Digite o seu endereço :\").lower()\n",
        "hobby=input(\"Qual o seu hobby?\").capitalize()\n",
        "print('''\n",
        "Nome:{}\n",
        "Endereço:{}\n",
        "Hobby:{}\n",
        "'''.format(nome,endereco,hobby))\n"
      ],
      "execution_count": null,
      "outputs": []
    },
    {
      "cell_type": "markdown",
      "metadata": {
        "id": "wlvmEAPQNrcL"
      },
      "source": [
        "# Mini Projetos"
      ]
    },
    {
      "cell_type": "markdown",
      "metadata": {
        "id": "W8zwueNBKh4B"
      },
      "source": [
        "## Mini Projeto 01 - Conversor de Moeda\n",
        "Vamos construir um programa que irá converter moedas do real para o dólar e do dólar para o real. Vamos considerar que `$ 1,00 = R$ 5,75`\n",
        "\n",
        "### Parte 1\n",
        "Faça o conversor de moeda receber o valor em real e mostrar o valor convertido para dólar no formato `$ XXXX.XX`\n",
        "\n",
        "**Exemplo:**\n",
        "\n",
        "```\n",
        "Valor em R$ = 1000\n",
        "Valor em $ = $ 173.91\n",
        "```\n",
        "\n",
        "### Parte 2\n",
        "Altere o conversor de moedas para receber o valor em dólar, converter para real e mostrar o resultado no formato `R$ XXXX.XX`\n",
        "\n",
        "**Exemplo:**\n",
        "```\n",
        "Valor em $ = 1000\n",
        "Valor em R$ = R$ 5750.00\n",
        "```"
      ]
    },
    {
      "cell_type": "code",
      "metadata": {
        "id": "mRQ9fpIgMp5Z",
        "colab": {
          "base_uri": "https://localhost:8080/"
        },
        "outputId": "dec94a60-14a0-4825-94ee-55ddb8f797eb"
      },
      "source": [
        "#importando a biblioteca math\n",
        "import math\n",
        "\n",
        "print(\"------>>>CONVERSOR DE MOEDA<<<--------: \\n\")\n",
        "\n",
        "print(\"--->Qual moeda deseja converter?---< \")\n",
        "\n",
        "opcao = input(\"Dolar para real ----> '1'\\n\"\n",
        "              \"Real para dolar ----> '2'\\n\"\n",
        "              \"SAIR ----> 'n'\\n\")\n",
        "\n",
        "if opcao == \"n\" :\n",
        "      print(\"Deseja mesmo sair do conversor?!!!\\n\")\n",
        "      sair2 = input(\"aperte N novamente para sair!!\")\n",
        "      if sair2 == 'n':\n",
        "        print(\"Saindo,obrigado!!\")\n",
        "      exit()\n",
        "        \n",
        "elif opcao == \"1\" :\n",
        "      print(\"\\tDolar para real: \\n\")\n",
        "      cotacao = (float(input(\"Digite a cotação do dia : \")))\n",
        "      valor = (float(input(\"Digite quanto deseja converter em real : \")))\n",
        "      converte = valor*cotacao\n",
        "      print(\"O valor convertido é R$\",converte)\n",
        "\n",
        "\n",
        "if opcao == \"2\" :\n",
        "    print (\"\\tReal para dolar:\\n\")\n",
        "    cotacao = (float(input(\"Digite a cotação do dia : \")))\n",
        "    valor = (float(input(\"Digite quanto deseja converter em dólares : \")))\n",
        "    converte = valor/cotacao\n",
        "    print(\"O valor convertido é $\",converte)\n",
        "\n",
        "\n",
        "\n"
      ],
      "execution_count": 1,
      "outputs": [
        {
          "output_type": "stream",
          "text": [
            "------>>>CONVERSOR DE MOEDA<<<--------: \n",
            "\n",
            "--->Qual moeda deseja converter?---< \n",
            "Dolar para real ----> '1'\n",
            "Real para dolar ----> '2'\n",
            "SAIR ----> 'n'\n",
            "n\n",
            "Deseja mesmo sair do conversor?!!!\n",
            "\n",
            "aperte N novamente para sair!!n\n",
            "Saindo,obrigado!!\n"
          ],
          "name": "stdout"
        }
      ]
    },
    {
      "cell_type": "markdown",
      "metadata": {
        "id": "0NmAiF2DV_ju"
      },
      "source": [
        "## Mini Projeto 02 - Calculadora de aumento de aluguel\n",
        "Vamos construir um programa que irá calcular o aumento anual do seu aluguel em duas partes:\n",
        "\n",
        "### Parte 1\n",
        "A sua calculadora vai receber o `valor do aluguel` e calcular o aumento baseado no `IGPM de 31%`. A calculadora deve apresentar o aluguel reajustado no formato `R$ XXXX.XX`\n",
        "\n",
        "**Exemplo:**\n",
        "```\n",
        "Valor do aluguel = 1000\n",
        "Valor do aluguel reajustado = R$ 1310,00\n",
        "```\n",
        "\n",
        "### Parte 2\n",
        "Agora, altere sua calculadora para receber além do `valor do aluguel`, o percentual do reajuste no formato `XX%`.  \n",
        "\n",
        "**Dica:** Descubra uma forma de transformar o percentual recebido em um número para efetuar o cálculo.\n",
        "\n",
        "**Exemplo:**\n",
        "```\n",
        "Valor do aluguel = 1000\n",
        "Percentual do reajuste = 31%\n",
        "Valor do aluguel reajustado = R% 1310,00\n",
        "```"
      ]
    },
    {
      "cell_type": "code",
      "metadata": {
        "id": "0eHzSCyaGkYJ"
      },
      "source": [
        ""
      ],
      "execution_count": null,
      "outputs": []
    },
    {
      "cell_type": "markdown",
      "metadata": {
        "id": "xN88sUuMOG46"
      },
      "source": [
        "## Mini Projeto 03 - Calculadora de dano\n",
        "Vamos implementar a calculadora de dano de RPG!!\n",
        "\n",
        "### Parte 1\n",
        "O programa vai receber a `vida e um monstro (entre 10 e 50)` e o `valor do ataque do jogador por turno (entre 5 e 10)`\n",
        "\n",
        "Baseado nos valores, exiba a quantidade de turnos que o jogador irá demorar para conseguir derrotar o monstro.\n",
        "\n",
        "**Exemplo:**\n",
        "```\n",
        "Vida de um monstro (entre 10 e 50): 26\n",
        "Valor do ataque do jogador por turno (entre 5 e 10): 5\n",
        "Resultado: O jogador irá precisar de 6 turnos para derrotar o monstro.\n",
        "```\n",
        "\n",
        "### Parte 2\n",
        "Altere o programa para ao invés de receber a vida do monstro, gerar aleatoriamente um valor entre 10 e 50."
      ]
    },
    {
      "cell_type": "code",
      "metadata": {
        "id": "Mrpz9UomQH2P"
      },
      "source": [
        ""
      ],
      "execution_count": null,
      "outputs": []
    }
  ]
}